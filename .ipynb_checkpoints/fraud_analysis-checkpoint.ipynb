{
 "cells": [
  {
   "cell_type": "markdown",
   "id": "f03421ea",
   "metadata": {},
   "source": [
    "<h1>Importing libraries</h1>"
   ]
  },
  {
   "cell_type": "code",
   "execution_count": 104,
   "id": "c6a9230c",
   "metadata": {},
   "outputs": [],
   "source": [
    "import pandas as pd\n",
    "import numpy as np\n",
    "import matplotlib.pyplot as plt\n",
    "import seaborn as sns\n",
    "import warnings\n",
    "warnings.filterwarnings('ignore')\n",
    "from plotnine import *"
   ]
  },
  {
   "cell_type": "code",
   "execution_count": 137,
   "id": "59442dde",
   "metadata": {},
   "outputs": [],
   "source": [
    "from sklearn.model_selection import train_test_split\n",
    "from sklearn.ensemble import RandomForestClassifier\n",
    "from sklearn.metrics import confusion_matrix\n",
    "from sklearn.tree import DecisionTreeClassifier\n",
    "from sklearn.datasets import load_iris\n",
    "from sklearn import datasets\n",
    "from sklearn.metrics import accuracy_score"
   ]
  },
  {
   "cell_type": "markdown",
   "id": "4ec5d272",
   "metadata": {},
   "source": [
    "<h2>Reading \"transactional-sample\" dataset</h2>\n",
    "<br>"
   ]
  },
  {
   "cell_type": "code",
   "execution_count": 106,
   "id": "fe6b1c6d",
   "metadata": {},
   "outputs": [],
   "source": [
    "df = pd.read_csv(\"transactional-sample.csv\", sep=\";\")"
   ]
  },
  {
   "cell_type": "markdown",
   "id": "acec31d4",
   "metadata": {},
   "source": [
    "### Visualizing the dataframe"
   ]
  },
  {
   "cell_type": "code",
   "execution_count": 107,
   "id": "cb8df9df",
   "metadata": {},
   "outputs": [
    {
     "data": {
      "text/html": [
       "<div>\n",
       "<style scoped>\n",
       "    .dataframe tbody tr th:only-of-type {\n",
       "        vertical-align: middle;\n",
       "    }\n",
       "\n",
       "    .dataframe tbody tr th {\n",
       "        vertical-align: top;\n",
       "    }\n",
       "\n",
       "    .dataframe thead th {\n",
       "        text-align: right;\n",
       "    }\n",
       "</style>\n",
       "<table border=\"1\" class=\"dataframe\">\n",
       "  <thead>\n",
       "    <tr style=\"text-align: right;\">\n",
       "      <th></th>\n",
       "      <th>transaction_id</th>\n",
       "      <th>merchant_id</th>\n",
       "      <th>user_id</th>\n",
       "      <th>card_number</th>\n",
       "      <th>transaction_date</th>\n",
       "      <th>transaction_amount</th>\n",
       "      <th>device_id</th>\n",
       "      <th>has_cbk</th>\n",
       "      <th>Unnamed: 8</th>\n",
       "      <th>Unnamed: 9</th>\n",
       "    </tr>\n",
       "  </thead>\n",
       "  <tbody>\n",
       "    <tr>\n",
       "      <th>0</th>\n",
       "      <td>21320398</td>\n",
       "      <td>29744</td>\n",
       "      <td>97051</td>\n",
       "      <td>434505******9116</td>\n",
       "      <td>2019-12-01T23:16:32.812632</td>\n",
       "      <td>374.56</td>\n",
       "      <td>285475.0</td>\n",
       "      <td>False</td>\n",
       "      <td>NaN</td>\n",
       "      <td>NaN</td>\n",
       "    </tr>\n",
       "    <tr>\n",
       "      <th>1</th>\n",
       "      <td>21320399</td>\n",
       "      <td>92895</td>\n",
       "      <td>2708</td>\n",
       "      <td>444456******4210</td>\n",
       "      <td>2019-12-01T22:45:37.873639</td>\n",
       "      <td>734.87</td>\n",
       "      <td>497105.0</td>\n",
       "      <td>True</td>\n",
       "      <td>NaN</td>\n",
       "      <td>NaN</td>\n",
       "    </tr>\n",
       "    <tr>\n",
       "      <th>2</th>\n",
       "      <td>21320400</td>\n",
       "      <td>47759</td>\n",
       "      <td>14777</td>\n",
       "      <td>425850******7024</td>\n",
       "      <td>2019-12-01T22:22:43.021495</td>\n",
       "      <td>760.36</td>\n",
       "      <td>NaN</td>\n",
       "      <td>False</td>\n",
       "      <td>NaN</td>\n",
       "      <td>NaN</td>\n",
       "    </tr>\n",
       "    <tr>\n",
       "      <th>3</th>\n",
       "      <td>21320401</td>\n",
       "      <td>68657</td>\n",
       "      <td>69758</td>\n",
       "      <td>464296******3991</td>\n",
       "      <td>2019-12-01T21:59:19.797129</td>\n",
       "      <td>2556.13</td>\n",
       "      <td>NaN</td>\n",
       "      <td>True</td>\n",
       "      <td>NaN</td>\n",
       "      <td>NaN</td>\n",
       "    </tr>\n",
       "    <tr>\n",
       "      <th>4</th>\n",
       "      <td>21320402</td>\n",
       "      <td>54075</td>\n",
       "      <td>64367</td>\n",
       "      <td>650487******6116</td>\n",
       "      <td>2019-12-01T21:30:53.347051</td>\n",
       "      <td>55.36</td>\n",
       "      <td>860232.0</td>\n",
       "      <td>False</td>\n",
       "      <td>NaN</td>\n",
       "      <td>NaN</td>\n",
       "    </tr>\n",
       "  </tbody>\n",
       "</table>\n",
       "</div>"
      ],
      "text/plain": [
       "   transaction_id  merchant_id  user_id       card_number  \\\n",
       "0        21320398        29744    97051  434505******9116   \n",
       "1        21320399        92895     2708  444456******4210   \n",
       "2        21320400        47759    14777  425850******7024   \n",
       "3        21320401        68657    69758  464296******3991   \n",
       "4        21320402        54075    64367  650487******6116   \n",
       "\n",
       "             transaction_date  transaction_amount  device_id  has_cbk  \\\n",
       "0  2019-12-01T23:16:32.812632              374.56   285475.0    False   \n",
       "1  2019-12-01T22:45:37.873639              734.87   497105.0     True   \n",
       "2  2019-12-01T22:22:43.021495              760.36        NaN    False   \n",
       "3  2019-12-01T21:59:19.797129             2556.13        NaN     True   \n",
       "4  2019-12-01T21:30:53.347051               55.36   860232.0    False   \n",
       "\n",
       "   Unnamed: 8  Unnamed: 9  \n",
       "0         NaN         NaN  \n",
       "1         NaN         NaN  \n",
       "2         NaN         NaN  \n",
       "3         NaN         NaN  \n",
       "4         NaN         NaN  "
      ]
     },
     "execution_count": 107,
     "metadata": {},
     "output_type": "execute_result"
    }
   ],
   "source": [
    "df.head()"
   ]
  },
  {
   "cell_type": "code",
   "execution_count": 108,
   "id": "5fad34bf",
   "metadata": {},
   "outputs": [
    {
     "name": "stdout",
     "output_type": "stream",
     "text": [
      "<class 'pandas.core.frame.DataFrame'>\n",
      "RangeIndex: 3199 entries, 0 to 3198\n",
      "Data columns (total 10 columns):\n",
      " #   Column              Non-Null Count  Dtype  \n",
      "---  ------              --------------  -----  \n",
      " 0   transaction_id      3199 non-null   int64  \n",
      " 1   merchant_id         3199 non-null   int64  \n",
      " 2   user_id             3199 non-null   int64  \n",
      " 3   card_number         3199 non-null   object \n",
      " 4   transaction_date    3199 non-null   object \n",
      " 5   transaction_amount  3199 non-null   float64\n",
      " 6   device_id           2369 non-null   float64\n",
      " 7   has_cbk             3199 non-null   bool   \n",
      " 8   Unnamed: 8          0 non-null      float64\n",
      " 9   Unnamed: 9          0 non-null      float64\n",
      "dtypes: bool(1), float64(4), int64(3), object(2)\n",
      "memory usage: 228.2+ KB\n"
     ]
    }
   ],
   "source": [
    "df.info()"
   ]
  },
  {
   "cell_type": "code",
   "execution_count": 109,
   "id": "d2430500",
   "metadata": {},
   "outputs": [
    {
     "data": {
      "text/html": [
       "<div>\n",
       "<style scoped>\n",
       "    .dataframe tbody tr th:only-of-type {\n",
       "        vertical-align: middle;\n",
       "    }\n",
       "\n",
       "    .dataframe tbody tr th {\n",
       "        vertical-align: top;\n",
       "    }\n",
       "\n",
       "    .dataframe thead th {\n",
       "        text-align: right;\n",
       "    }\n",
       "</style>\n",
       "<table border=\"1\" class=\"dataframe\">\n",
       "  <thead>\n",
       "    <tr style=\"text-align: right;\">\n",
       "      <th></th>\n",
       "      <th>transaction_id</th>\n",
       "      <th>merchant_id</th>\n",
       "      <th>user_id</th>\n",
       "      <th>transaction_amount</th>\n",
       "      <th>device_id</th>\n",
       "      <th>Unnamed: 8</th>\n",
       "      <th>Unnamed: 9</th>\n",
       "    </tr>\n",
       "  </thead>\n",
       "  <tbody>\n",
       "    <tr>\n",
       "      <th>count</th>\n",
       "      <td>3.199000e+03</td>\n",
       "      <td>3199.000000</td>\n",
       "      <td>3199.000000</td>\n",
       "      <td>3199.000000</td>\n",
       "      <td>2369.000000</td>\n",
       "      <td>0.0</td>\n",
       "      <td>0.0</td>\n",
       "    </tr>\n",
       "    <tr>\n",
       "      <th>mean</th>\n",
       "      <td>2.132200e+07</td>\n",
       "      <td>48771.128790</td>\n",
       "      <td>50891.077212</td>\n",
       "      <td>767.812904</td>\n",
       "      <td>493924.859856</td>\n",
       "      <td>NaN</td>\n",
       "      <td>NaN</td>\n",
       "    </tr>\n",
       "    <tr>\n",
       "      <th>std</th>\n",
       "      <td>9.236161e+02</td>\n",
       "      <td>29100.360839</td>\n",
       "      <td>29515.282827</td>\n",
       "      <td>889.095904</td>\n",
       "      <td>283785.584545</td>\n",
       "      <td>NaN</td>\n",
       "      <td>NaN</td>\n",
       "    </tr>\n",
       "    <tr>\n",
       "      <th>min</th>\n",
       "      <td>2.132040e+07</td>\n",
       "      <td>16.000000</td>\n",
       "      <td>6.000000</td>\n",
       "      <td>1.220000</td>\n",
       "      <td>2.000000</td>\n",
       "      <td>NaN</td>\n",
       "      <td>NaN</td>\n",
       "    </tr>\n",
       "    <tr>\n",
       "      <th>25%</th>\n",
       "      <td>2.132120e+07</td>\n",
       "      <td>23426.000000</td>\n",
       "      <td>24267.500000</td>\n",
       "      <td>205.235000</td>\n",
       "      <td>259344.000000</td>\n",
       "      <td>NaN</td>\n",
       "      <td>NaN</td>\n",
       "    </tr>\n",
       "    <tr>\n",
       "      <th>50%</th>\n",
       "      <td>2.132200e+07</td>\n",
       "      <td>48752.000000</td>\n",
       "      <td>52307.000000</td>\n",
       "      <td>415.940000</td>\n",
       "      <td>495443.000000</td>\n",
       "      <td>NaN</td>\n",
       "      <td>NaN</td>\n",
       "    </tr>\n",
       "    <tr>\n",
       "      <th>75%</th>\n",
       "      <td>2.132280e+07</td>\n",
       "      <td>73915.000000</td>\n",
       "      <td>76837.000000</td>\n",
       "      <td>981.680000</td>\n",
       "      <td>733243.000000</td>\n",
       "      <td>NaN</td>\n",
       "      <td>NaN</td>\n",
       "    </tr>\n",
       "    <tr>\n",
       "      <th>max</th>\n",
       "      <td>2.132360e+07</td>\n",
       "      <td>99799.000000</td>\n",
       "      <td>99974.000000</td>\n",
       "      <td>4097.210000</td>\n",
       "      <td>999843.000000</td>\n",
       "      <td>NaN</td>\n",
       "      <td>NaN</td>\n",
       "    </tr>\n",
       "  </tbody>\n",
       "</table>\n",
       "</div>"
      ],
      "text/plain": [
       "       transaction_id   merchant_id       user_id  transaction_amount  \\\n",
       "count    3.199000e+03   3199.000000   3199.000000         3199.000000   \n",
       "mean     2.132200e+07  48771.128790  50891.077212          767.812904   \n",
       "std      9.236161e+02  29100.360839  29515.282827          889.095904   \n",
       "min      2.132040e+07     16.000000      6.000000            1.220000   \n",
       "25%      2.132120e+07  23426.000000  24267.500000          205.235000   \n",
       "50%      2.132200e+07  48752.000000  52307.000000          415.940000   \n",
       "75%      2.132280e+07  73915.000000  76837.000000          981.680000   \n",
       "max      2.132360e+07  99799.000000  99974.000000         4097.210000   \n",
       "\n",
       "           device_id  Unnamed: 8  Unnamed: 9  \n",
       "count    2369.000000         0.0         0.0  \n",
       "mean   493924.859856         NaN         NaN  \n",
       "std    283785.584545         NaN         NaN  \n",
       "min         2.000000         NaN         NaN  \n",
       "25%    259344.000000         NaN         NaN  \n",
       "50%    495443.000000         NaN         NaN  \n",
       "75%    733243.000000         NaN         NaN  \n",
       "max    999843.000000         NaN         NaN  "
      ]
     },
     "execution_count": 109,
     "metadata": {},
     "output_type": "execute_result"
    }
   ],
   "source": [
    "df.describe()"
   ]
  },
  {
   "cell_type": "markdown",
   "id": "91c10516",
   "metadata": {},
   "source": [
    "### Distribution of Transactions that had chargeback"
   ]
  },
  {
   "cell_type": "code",
   "execution_count": 110,
   "id": "da4e2896",
   "metadata": {},
   "outputs": [
    {
     "data": {
      "text/plain": [
       "False    2808\n",
       "True      391\n",
       "Name: has_cbk, dtype: int64"
      ]
     },
     "execution_count": 110,
     "metadata": {},
     "output_type": "execute_result"
    }
   ],
   "source": [
    "df.has_cbk.value_counts()"
   ]
  },
  {
   "cell_type": "code",
   "execution_count": 219,
   "id": "57b5459f",
   "metadata": {},
   "outputs": [
    {
     "data": {
      "application/vnd.plotly.v1+json": {
       "config": {
        "plotlyServerURL": "https://plot.ly"
       },
       "data": [
        {
         "domain": {
          "x": [
           0,
           1
          ],
          "y": [
           0,
           1
          ]
         },
         "hole": 0.4,
         "hovertemplate": "label=%{label}<br>value=%{value}<extra></extra>",
         "labels": [],
         "legendgroup": "",
         "name": "",
         "showlegend": true,
         "type": "pie",
         "values": []
        }
       ],
       "layout": {
        "legend": {
         "tracegroupgap": 0
        },
        "template": {
         "data": {
          "bar": [
           {
            "error_x": {
             "color": "#2a3f5f"
            },
            "error_y": {
             "color": "#2a3f5f"
            },
            "marker": {
             "line": {
              "color": "#E5ECF6",
              "width": 0.5
             },
             "pattern": {
              "fillmode": "overlay",
              "size": 10,
              "solidity": 0.2
             }
            },
            "type": "bar"
           }
          ],
          "barpolar": [
           {
            "marker": {
             "line": {
              "color": "#E5ECF6",
              "width": 0.5
             },
             "pattern": {
              "fillmode": "overlay",
              "size": 10,
              "solidity": 0.2
             }
            },
            "type": "barpolar"
           }
          ],
          "carpet": [
           {
            "aaxis": {
             "endlinecolor": "#2a3f5f",
             "gridcolor": "white",
             "linecolor": "white",
             "minorgridcolor": "white",
             "startlinecolor": "#2a3f5f"
            },
            "baxis": {
             "endlinecolor": "#2a3f5f",
             "gridcolor": "white",
             "linecolor": "white",
             "minorgridcolor": "white",
             "startlinecolor": "#2a3f5f"
            },
            "type": "carpet"
           }
          ],
          "choropleth": [
           {
            "colorbar": {
             "outlinewidth": 0,
             "ticks": ""
            },
            "type": "choropleth"
           }
          ],
          "contour": [
           {
            "colorbar": {
             "outlinewidth": 0,
             "ticks": ""
            },
            "colorscale": [
             [
              0,
              "#0d0887"
             ],
             [
              0.1111111111111111,
              "#46039f"
             ],
             [
              0.2222222222222222,
              "#7201a8"
             ],
             [
              0.3333333333333333,
              "#9c179e"
             ],
             [
              0.4444444444444444,
              "#bd3786"
             ],
             [
              0.5555555555555556,
              "#d8576b"
             ],
             [
              0.6666666666666666,
              "#ed7953"
             ],
             [
              0.7777777777777778,
              "#fb9f3a"
             ],
             [
              0.8888888888888888,
              "#fdca26"
             ],
             [
              1,
              "#f0f921"
             ]
            ],
            "type": "contour"
           }
          ],
          "contourcarpet": [
           {
            "colorbar": {
             "outlinewidth": 0,
             "ticks": ""
            },
            "type": "contourcarpet"
           }
          ],
          "heatmap": [
           {
            "colorbar": {
             "outlinewidth": 0,
             "ticks": ""
            },
            "colorscale": [
             [
              0,
              "#0d0887"
             ],
             [
              0.1111111111111111,
              "#46039f"
             ],
             [
              0.2222222222222222,
              "#7201a8"
             ],
             [
              0.3333333333333333,
              "#9c179e"
             ],
             [
              0.4444444444444444,
              "#bd3786"
             ],
             [
              0.5555555555555556,
              "#d8576b"
             ],
             [
              0.6666666666666666,
              "#ed7953"
             ],
             [
              0.7777777777777778,
              "#fb9f3a"
             ],
             [
              0.8888888888888888,
              "#fdca26"
             ],
             [
              1,
              "#f0f921"
             ]
            ],
            "type": "heatmap"
           }
          ],
          "heatmapgl": [
           {
            "colorbar": {
             "outlinewidth": 0,
             "ticks": ""
            },
            "colorscale": [
             [
              0,
              "#0d0887"
             ],
             [
              0.1111111111111111,
              "#46039f"
             ],
             [
              0.2222222222222222,
              "#7201a8"
             ],
             [
              0.3333333333333333,
              "#9c179e"
             ],
             [
              0.4444444444444444,
              "#bd3786"
             ],
             [
              0.5555555555555556,
              "#d8576b"
             ],
             [
              0.6666666666666666,
              "#ed7953"
             ],
             [
              0.7777777777777778,
              "#fb9f3a"
             ],
             [
              0.8888888888888888,
              "#fdca26"
             ],
             [
              1,
              "#f0f921"
             ]
            ],
            "type": "heatmapgl"
           }
          ],
          "histogram": [
           {
            "marker": {
             "pattern": {
              "fillmode": "overlay",
              "size": 10,
              "solidity": 0.2
             }
            },
            "type": "histogram"
           }
          ],
          "histogram2d": [
           {
            "colorbar": {
             "outlinewidth": 0,
             "ticks": ""
            },
            "colorscale": [
             [
              0,
              "#0d0887"
             ],
             [
              0.1111111111111111,
              "#46039f"
             ],
             [
              0.2222222222222222,
              "#7201a8"
             ],
             [
              0.3333333333333333,
              "#9c179e"
             ],
             [
              0.4444444444444444,
              "#bd3786"
             ],
             [
              0.5555555555555556,
              "#d8576b"
             ],
             [
              0.6666666666666666,
              "#ed7953"
             ],
             [
              0.7777777777777778,
              "#fb9f3a"
             ],
             [
              0.8888888888888888,
              "#fdca26"
             ],
             [
              1,
              "#f0f921"
             ]
            ],
            "type": "histogram2d"
           }
          ],
          "histogram2dcontour": [
           {
            "colorbar": {
             "outlinewidth": 0,
             "ticks": ""
            },
            "colorscale": [
             [
              0,
              "#0d0887"
             ],
             [
              0.1111111111111111,
              "#46039f"
             ],
             [
              0.2222222222222222,
              "#7201a8"
             ],
             [
              0.3333333333333333,
              "#9c179e"
             ],
             [
              0.4444444444444444,
              "#bd3786"
             ],
             [
              0.5555555555555556,
              "#d8576b"
             ],
             [
              0.6666666666666666,
              "#ed7953"
             ],
             [
              0.7777777777777778,
              "#fb9f3a"
             ],
             [
              0.8888888888888888,
              "#fdca26"
             ],
             [
              1,
              "#f0f921"
             ]
            ],
            "type": "histogram2dcontour"
           }
          ],
          "mesh3d": [
           {
            "colorbar": {
             "outlinewidth": 0,
             "ticks": ""
            },
            "type": "mesh3d"
           }
          ],
          "parcoords": [
           {
            "line": {
             "colorbar": {
              "outlinewidth": 0,
              "ticks": ""
             }
            },
            "type": "parcoords"
           }
          ],
          "pie": [
           {
            "automargin": true,
            "type": "pie"
           }
          ],
          "scatter": [
           {
            "fillpattern": {
             "fillmode": "overlay",
             "size": 10,
             "solidity": 0.2
            },
            "type": "scatter"
           }
          ],
          "scatter3d": [
           {
            "line": {
             "colorbar": {
              "outlinewidth": 0,
              "ticks": ""
             }
            },
            "marker": {
             "colorbar": {
              "outlinewidth": 0,
              "ticks": ""
             }
            },
            "type": "scatter3d"
           }
          ],
          "scattercarpet": [
           {
            "marker": {
             "colorbar": {
              "outlinewidth": 0,
              "ticks": ""
             }
            },
            "type": "scattercarpet"
           }
          ],
          "scattergeo": [
           {
            "marker": {
             "colorbar": {
              "outlinewidth": 0,
              "ticks": ""
             }
            },
            "type": "scattergeo"
           }
          ],
          "scattergl": [
           {
            "marker": {
             "colorbar": {
              "outlinewidth": 0,
              "ticks": ""
             }
            },
            "type": "scattergl"
           }
          ],
          "scattermapbox": [
           {
            "marker": {
             "colorbar": {
              "outlinewidth": 0,
              "ticks": ""
             }
            },
            "type": "scattermapbox"
           }
          ],
          "scatterpolar": [
           {
            "marker": {
             "colorbar": {
              "outlinewidth": 0,
              "ticks": ""
             }
            },
            "type": "scatterpolar"
           }
          ],
          "scatterpolargl": [
           {
            "marker": {
             "colorbar": {
              "outlinewidth": 0,
              "ticks": ""
             }
            },
            "type": "scatterpolargl"
           }
          ],
          "scatterternary": [
           {
            "marker": {
             "colorbar": {
              "outlinewidth": 0,
              "ticks": ""
             }
            },
            "type": "scatterternary"
           }
          ],
          "surface": [
           {
            "colorbar": {
             "outlinewidth": 0,
             "ticks": ""
            },
            "colorscale": [
             [
              0,
              "#0d0887"
             ],
             [
              0.1111111111111111,
              "#46039f"
             ],
             [
              0.2222222222222222,
              "#7201a8"
             ],
             [
              0.3333333333333333,
              "#9c179e"
             ],
             [
              0.4444444444444444,
              "#bd3786"
             ],
             [
              0.5555555555555556,
              "#d8576b"
             ],
             [
              0.6666666666666666,
              "#ed7953"
             ],
             [
              0.7777777777777778,
              "#fb9f3a"
             ],
             [
              0.8888888888888888,
              "#fdca26"
             ],
             [
              1,
              "#f0f921"
             ]
            ],
            "type": "surface"
           }
          ],
          "table": [
           {
            "cells": {
             "fill": {
              "color": "#EBF0F8"
             },
             "line": {
              "color": "white"
             }
            },
            "header": {
             "fill": {
              "color": "#C8D4E3"
             },
             "line": {
              "color": "white"
             }
            },
            "type": "table"
           }
          ]
         },
         "layout": {
          "annotationdefaults": {
           "arrowcolor": "#2a3f5f",
           "arrowhead": 0,
           "arrowwidth": 1
          },
          "autotypenumbers": "strict",
          "coloraxis": {
           "colorbar": {
            "outlinewidth": 0,
            "ticks": ""
           }
          },
          "colorscale": {
           "diverging": [
            [
             0,
             "#8e0152"
            ],
            [
             0.1,
             "#c51b7d"
            ],
            [
             0.2,
             "#de77ae"
            ],
            [
             0.3,
             "#f1b6da"
            ],
            [
             0.4,
             "#fde0ef"
            ],
            [
             0.5,
             "#f7f7f7"
            ],
            [
             0.6,
             "#e6f5d0"
            ],
            [
             0.7,
             "#b8e186"
            ],
            [
             0.8,
             "#7fbc41"
            ],
            [
             0.9,
             "#4d9221"
            ],
            [
             1,
             "#276419"
            ]
           ],
           "sequential": [
            [
             0,
             "#0d0887"
            ],
            [
             0.1111111111111111,
             "#46039f"
            ],
            [
             0.2222222222222222,
             "#7201a8"
            ],
            [
             0.3333333333333333,
             "#9c179e"
            ],
            [
             0.4444444444444444,
             "#bd3786"
            ],
            [
             0.5555555555555556,
             "#d8576b"
            ],
            [
             0.6666666666666666,
             "#ed7953"
            ],
            [
             0.7777777777777778,
             "#fb9f3a"
            ],
            [
             0.8888888888888888,
             "#fdca26"
            ],
            [
             1,
             "#f0f921"
            ]
           ],
           "sequentialminus": [
            [
             0,
             "#0d0887"
            ],
            [
             0.1111111111111111,
             "#46039f"
            ],
            [
             0.2222222222222222,
             "#7201a8"
            ],
            [
             0.3333333333333333,
             "#9c179e"
            ],
            [
             0.4444444444444444,
             "#bd3786"
            ],
            [
             0.5555555555555556,
             "#d8576b"
            ],
            [
             0.6666666666666666,
             "#ed7953"
            ],
            [
             0.7777777777777778,
             "#fb9f3a"
            ],
            [
             0.8888888888888888,
             "#fdca26"
            ],
            [
             1,
             "#f0f921"
            ]
           ]
          },
          "colorway": [
           "#636efa",
           "#EF553B",
           "#00cc96",
           "#ab63fa",
           "#FFA15A",
           "#19d3f3",
           "#FF6692",
           "#B6E880",
           "#FF97FF",
           "#FECB52"
          ],
          "font": {
           "color": "#2a3f5f"
          },
          "geo": {
           "bgcolor": "white",
           "lakecolor": "white",
           "landcolor": "#E5ECF6",
           "showlakes": true,
           "showland": true,
           "subunitcolor": "white"
          },
          "hoverlabel": {
           "align": "left"
          },
          "hovermode": "closest",
          "mapbox": {
           "style": "light"
          },
          "paper_bgcolor": "white",
          "plot_bgcolor": "#E5ECF6",
          "polar": {
           "angularaxis": {
            "gridcolor": "white",
            "linecolor": "white",
            "ticks": ""
           },
           "bgcolor": "#E5ECF6",
           "radialaxis": {
            "gridcolor": "white",
            "linecolor": "white",
            "ticks": ""
           }
          },
          "scene": {
           "xaxis": {
            "backgroundcolor": "#E5ECF6",
            "gridcolor": "white",
            "gridwidth": 2,
            "linecolor": "white",
            "showbackground": true,
            "ticks": "",
            "zerolinecolor": "white"
           },
           "yaxis": {
            "backgroundcolor": "#E5ECF6",
            "gridcolor": "white",
            "gridwidth": 2,
            "linecolor": "white",
            "showbackground": true,
            "ticks": "",
            "zerolinecolor": "white"
           },
           "zaxis": {
            "backgroundcolor": "#E5ECF6",
            "gridcolor": "white",
            "gridwidth": 2,
            "linecolor": "white",
            "showbackground": true,
            "ticks": "",
            "zerolinecolor": "white"
           }
          },
          "shapedefaults": {
           "line": {
            "color": "#2a3f5f"
           }
          },
          "ternary": {
           "aaxis": {
            "gridcolor": "white",
            "linecolor": "white",
            "ticks": ""
           },
           "baxis": {
            "gridcolor": "white",
            "linecolor": "white",
            "ticks": ""
           },
           "bgcolor": "#E5ECF6",
           "caxis": {
            "gridcolor": "white",
            "linecolor": "white",
            "ticks": ""
           }
          },
          "title": {
           "x": 0.05
          },
          "xaxis": {
           "automargin": true,
           "gridcolor": "white",
           "linecolor": "white",
           "ticks": "",
           "title": {
            "standoff": 15
           },
           "zerolinecolor": "white",
           "zerolinewidth": 2
          },
          "yaxis": {
           "automargin": true,
           "gridcolor": "white",
           "linecolor": "white",
           "ticks": "",
           "title": {
            "standoff": 15
           },
           "zerolinecolor": "white",
           "zerolinewidth": 2
          }
         }
        },
        "title": {
         "text": "Distribution of Transactions that had chargeback"
        }
       }
      },
      "text/html": [
       "<div>                            <div id=\"d73cf730-4876-4dfb-9782-3f8db7201db7\" class=\"plotly-graph-div\" style=\"height:525px; width:100%;\"></div>            <script type=\"text/javascript\">                require([\"plotly\"], function(Plotly) {                    window.PLOTLYENV=window.PLOTLYENV || {};                                    if (document.getElementById(\"d73cf730-4876-4dfb-9782-3f8db7201db7\")) {                    Plotly.newPlot(                        \"d73cf730-4876-4dfb-9782-3f8db7201db7\",                        [{\"domain\":{\"x\":[0.0,1.0],\"y\":[0.0,1.0]},\"hole\":0.4,\"hovertemplate\":\"label=%{label}<br>value=%{value}<extra></extra>\",\"labels\":[],\"legendgroup\":\"\",\"name\":\"\",\"showlegend\":true,\"values\":[],\"type\":\"pie\"}],                        {\"template\":{\"data\":{\"histogram2dcontour\":[{\"type\":\"histogram2dcontour\",\"colorbar\":{\"outlinewidth\":0,\"ticks\":\"\"},\"colorscale\":[[0.0,\"#0d0887\"],[0.1111111111111111,\"#46039f\"],[0.2222222222222222,\"#7201a8\"],[0.3333333333333333,\"#9c179e\"],[0.4444444444444444,\"#bd3786\"],[0.5555555555555556,\"#d8576b\"],[0.6666666666666666,\"#ed7953\"],[0.7777777777777778,\"#fb9f3a\"],[0.8888888888888888,\"#fdca26\"],[1.0,\"#f0f921\"]]}],\"choropleth\":[{\"type\":\"choropleth\",\"colorbar\":{\"outlinewidth\":0,\"ticks\":\"\"}}],\"histogram2d\":[{\"type\":\"histogram2d\",\"colorbar\":{\"outlinewidth\":0,\"ticks\":\"\"},\"colorscale\":[[0.0,\"#0d0887\"],[0.1111111111111111,\"#46039f\"],[0.2222222222222222,\"#7201a8\"],[0.3333333333333333,\"#9c179e\"],[0.4444444444444444,\"#bd3786\"],[0.5555555555555556,\"#d8576b\"],[0.6666666666666666,\"#ed7953\"],[0.7777777777777778,\"#fb9f3a\"],[0.8888888888888888,\"#fdca26\"],[1.0,\"#f0f921\"]]}],\"heatmap\":[{\"type\":\"heatmap\",\"colorbar\":{\"outlinewidth\":0,\"ticks\":\"\"},\"colorscale\":[[0.0,\"#0d0887\"],[0.1111111111111111,\"#46039f\"],[0.2222222222222222,\"#7201a8\"],[0.3333333333333333,\"#9c179e\"],[0.4444444444444444,\"#bd3786\"],[0.5555555555555556,\"#d8576b\"],[0.6666666666666666,\"#ed7953\"],[0.7777777777777778,\"#fb9f3a\"],[0.8888888888888888,\"#fdca26\"],[1.0,\"#f0f921\"]]}],\"heatmapgl\":[{\"type\":\"heatmapgl\",\"colorbar\":{\"outlinewidth\":0,\"ticks\":\"\"},\"colorscale\":[[0.0,\"#0d0887\"],[0.1111111111111111,\"#46039f\"],[0.2222222222222222,\"#7201a8\"],[0.3333333333333333,\"#9c179e\"],[0.4444444444444444,\"#bd3786\"],[0.5555555555555556,\"#d8576b\"],[0.6666666666666666,\"#ed7953\"],[0.7777777777777778,\"#fb9f3a\"],[0.8888888888888888,\"#fdca26\"],[1.0,\"#f0f921\"]]}],\"contourcarpet\":[{\"type\":\"contourcarpet\",\"colorbar\":{\"outlinewidth\":0,\"ticks\":\"\"}}],\"contour\":[{\"type\":\"contour\",\"colorbar\":{\"outlinewidth\":0,\"ticks\":\"\"},\"colorscale\":[[0.0,\"#0d0887\"],[0.1111111111111111,\"#46039f\"],[0.2222222222222222,\"#7201a8\"],[0.3333333333333333,\"#9c179e\"],[0.4444444444444444,\"#bd3786\"],[0.5555555555555556,\"#d8576b\"],[0.6666666666666666,\"#ed7953\"],[0.7777777777777778,\"#fb9f3a\"],[0.8888888888888888,\"#fdca26\"],[1.0,\"#f0f921\"]]}],\"surface\":[{\"type\":\"surface\",\"colorbar\":{\"outlinewidth\":0,\"ticks\":\"\"},\"colorscale\":[[0.0,\"#0d0887\"],[0.1111111111111111,\"#46039f\"],[0.2222222222222222,\"#7201a8\"],[0.3333333333333333,\"#9c179e\"],[0.4444444444444444,\"#bd3786\"],[0.5555555555555556,\"#d8576b\"],[0.6666666666666666,\"#ed7953\"],[0.7777777777777778,\"#fb9f3a\"],[0.8888888888888888,\"#fdca26\"],[1.0,\"#f0f921\"]]}],\"mesh3d\":[{\"type\":\"mesh3d\",\"colorbar\":{\"outlinewidth\":0,\"ticks\":\"\"}}],\"scatter\":[{\"fillpattern\":{\"fillmode\":\"overlay\",\"size\":10,\"solidity\":0.2},\"type\":\"scatter\"}],\"parcoords\":[{\"type\":\"parcoords\",\"line\":{\"colorbar\":{\"outlinewidth\":0,\"ticks\":\"\"}}}],\"scatterpolargl\":[{\"type\":\"scatterpolargl\",\"marker\":{\"colorbar\":{\"outlinewidth\":0,\"ticks\":\"\"}}}],\"bar\":[{\"error_x\":{\"color\":\"#2a3f5f\"},\"error_y\":{\"color\":\"#2a3f5f\"},\"marker\":{\"line\":{\"color\":\"#E5ECF6\",\"width\":0.5},\"pattern\":{\"fillmode\":\"overlay\",\"size\":10,\"solidity\":0.2}},\"type\":\"bar\"}],\"scattergeo\":[{\"type\":\"scattergeo\",\"marker\":{\"colorbar\":{\"outlinewidth\":0,\"ticks\":\"\"}}}],\"scatterpolar\":[{\"type\":\"scatterpolar\",\"marker\":{\"colorbar\":{\"outlinewidth\":0,\"ticks\":\"\"}}}],\"histogram\":[{\"marker\":{\"pattern\":{\"fillmode\":\"overlay\",\"size\":10,\"solidity\":0.2}},\"type\":\"histogram\"}],\"scattergl\":[{\"type\":\"scattergl\",\"marker\":{\"colorbar\":{\"outlinewidth\":0,\"ticks\":\"\"}}}],\"scatter3d\":[{\"type\":\"scatter3d\",\"line\":{\"colorbar\":{\"outlinewidth\":0,\"ticks\":\"\"}},\"marker\":{\"colorbar\":{\"outlinewidth\":0,\"ticks\":\"\"}}}],\"scattermapbox\":[{\"type\":\"scattermapbox\",\"marker\":{\"colorbar\":{\"outlinewidth\":0,\"ticks\":\"\"}}}],\"scatterternary\":[{\"type\":\"scatterternary\",\"marker\":{\"colorbar\":{\"outlinewidth\":0,\"ticks\":\"\"}}}],\"scattercarpet\":[{\"type\":\"scattercarpet\",\"marker\":{\"colorbar\":{\"outlinewidth\":0,\"ticks\":\"\"}}}],\"carpet\":[{\"aaxis\":{\"endlinecolor\":\"#2a3f5f\",\"gridcolor\":\"white\",\"linecolor\":\"white\",\"minorgridcolor\":\"white\",\"startlinecolor\":\"#2a3f5f\"},\"baxis\":{\"endlinecolor\":\"#2a3f5f\",\"gridcolor\":\"white\",\"linecolor\":\"white\",\"minorgridcolor\":\"white\",\"startlinecolor\":\"#2a3f5f\"},\"type\":\"carpet\"}],\"table\":[{\"cells\":{\"fill\":{\"color\":\"#EBF0F8\"},\"line\":{\"color\":\"white\"}},\"header\":{\"fill\":{\"color\":\"#C8D4E3\"},\"line\":{\"color\":\"white\"}},\"type\":\"table\"}],\"barpolar\":[{\"marker\":{\"line\":{\"color\":\"#E5ECF6\",\"width\":0.5},\"pattern\":{\"fillmode\":\"overlay\",\"size\":10,\"solidity\":0.2}},\"type\":\"barpolar\"}],\"pie\":[{\"automargin\":true,\"type\":\"pie\"}]},\"layout\":{\"autotypenumbers\":\"strict\",\"colorway\":[\"#636efa\",\"#EF553B\",\"#00cc96\",\"#ab63fa\",\"#FFA15A\",\"#19d3f3\",\"#FF6692\",\"#B6E880\",\"#FF97FF\",\"#FECB52\"],\"font\":{\"color\":\"#2a3f5f\"},\"hovermode\":\"closest\",\"hoverlabel\":{\"align\":\"left\"},\"paper_bgcolor\":\"white\",\"plot_bgcolor\":\"#E5ECF6\",\"polar\":{\"bgcolor\":\"#E5ECF6\",\"angularaxis\":{\"gridcolor\":\"white\",\"linecolor\":\"white\",\"ticks\":\"\"},\"radialaxis\":{\"gridcolor\":\"white\",\"linecolor\":\"white\",\"ticks\":\"\"}},\"ternary\":{\"bgcolor\":\"#E5ECF6\",\"aaxis\":{\"gridcolor\":\"white\",\"linecolor\":\"white\",\"ticks\":\"\"},\"baxis\":{\"gridcolor\":\"white\",\"linecolor\":\"white\",\"ticks\":\"\"},\"caxis\":{\"gridcolor\":\"white\",\"linecolor\":\"white\",\"ticks\":\"\"}},\"coloraxis\":{\"colorbar\":{\"outlinewidth\":0,\"ticks\":\"\"}},\"colorscale\":{\"sequential\":[[0.0,\"#0d0887\"],[0.1111111111111111,\"#46039f\"],[0.2222222222222222,\"#7201a8\"],[0.3333333333333333,\"#9c179e\"],[0.4444444444444444,\"#bd3786\"],[0.5555555555555556,\"#d8576b\"],[0.6666666666666666,\"#ed7953\"],[0.7777777777777778,\"#fb9f3a\"],[0.8888888888888888,\"#fdca26\"],[1.0,\"#f0f921\"]],\"sequentialminus\":[[0.0,\"#0d0887\"],[0.1111111111111111,\"#46039f\"],[0.2222222222222222,\"#7201a8\"],[0.3333333333333333,\"#9c179e\"],[0.4444444444444444,\"#bd3786\"],[0.5555555555555556,\"#d8576b\"],[0.6666666666666666,\"#ed7953\"],[0.7777777777777778,\"#fb9f3a\"],[0.8888888888888888,\"#fdca26\"],[1.0,\"#f0f921\"]],\"diverging\":[[0,\"#8e0152\"],[0.1,\"#c51b7d\"],[0.2,\"#de77ae\"],[0.3,\"#f1b6da\"],[0.4,\"#fde0ef\"],[0.5,\"#f7f7f7\"],[0.6,\"#e6f5d0\"],[0.7,\"#b8e186\"],[0.8,\"#7fbc41\"],[0.9,\"#4d9221\"],[1,\"#276419\"]]},\"xaxis\":{\"gridcolor\":\"white\",\"linecolor\":\"white\",\"ticks\":\"\",\"title\":{\"standoff\":15},\"zerolinecolor\":\"white\",\"automargin\":true,\"zerolinewidth\":2},\"yaxis\":{\"gridcolor\":\"white\",\"linecolor\":\"white\",\"ticks\":\"\",\"title\":{\"standoff\":15},\"zerolinecolor\":\"white\",\"automargin\":true,\"zerolinewidth\":2},\"scene\":{\"xaxis\":{\"backgroundcolor\":\"#E5ECF6\",\"gridcolor\":\"white\",\"linecolor\":\"white\",\"showbackground\":true,\"ticks\":\"\",\"zerolinecolor\":\"white\",\"gridwidth\":2},\"yaxis\":{\"backgroundcolor\":\"#E5ECF6\",\"gridcolor\":\"white\",\"linecolor\":\"white\",\"showbackground\":true,\"ticks\":\"\",\"zerolinecolor\":\"white\",\"gridwidth\":2},\"zaxis\":{\"backgroundcolor\":\"#E5ECF6\",\"gridcolor\":\"white\",\"linecolor\":\"white\",\"showbackground\":true,\"ticks\":\"\",\"zerolinecolor\":\"white\",\"gridwidth\":2}},\"shapedefaults\":{\"line\":{\"color\":\"#2a3f5f\"}},\"annotationdefaults\":{\"arrowcolor\":\"#2a3f5f\",\"arrowhead\":0,\"arrowwidth\":1},\"geo\":{\"bgcolor\":\"white\",\"landcolor\":\"#E5ECF6\",\"subunitcolor\":\"white\",\"showland\":true,\"showlakes\":true,\"lakecolor\":\"white\"},\"title\":{\"x\":0.05},\"mapbox\":{\"style\":\"light\"}}},\"legend\":{\"tracegroupgap\":0},\"title\":{\"text\":\"Distribution of Transactions that had chargeback\"}},                        {\"responsive\": true}                    ).then(function(){\n",
       "                            \n",
       "var gd = document.getElementById('d73cf730-4876-4dfb-9782-3f8db7201db7');\n",
       "var x = new MutationObserver(function (mutations, observer) {{\n",
       "        var display = window.getComputedStyle(gd).display;\n",
       "        if (!display || display === 'none') {{\n",
       "            console.log([gd, 'removed!']);\n",
       "            Plotly.purge(gd);\n",
       "            observer.disconnect();\n",
       "        }}\n",
       "}});\n",
       "\n",
       "// Listen for the removal of the full notebook cells\n",
       "var notebookContainer = gd.closest('#notebook-container');\n",
       "if (notebookContainer) {{\n",
       "    x.observe(notebookContainer, {childList: true});\n",
       "}}\n",
       "\n",
       "// Listen for the clearing of the current output cell\n",
       "var outputEl = gd.closest('.output');\n",
       "if (outputEl) {{\n",
       "    x.observe(outputEl, {childList: true});\n",
       "}}\n",
       "\n",
       "                        })                };                });            </script>        </div>"
      ]
     },
     "metadata": {},
     "output_type": "display_data"
    }
   ],
   "source": [
    "type = df[\"has_cbk\"].value_counts()\n",
    "\n",
    "chargebackStatus = type.index\n",
    "quantity = type.values\n",
    "import plotly .express as px\n",
    "figure = px.pie(df, values=quantity, names=chargebackStatus, hole=0.4, title=\"Distribution of Transactions that had chargeback\")\n",
    "figure.show()"
   ]
  },
  {
   "cell_type": "markdown",
   "id": "2756be8c",
   "metadata": {},
   "source": [
    "### Transaction without device_id registred\n",
    "<br>"
   ]
  },
  {
   "cell_type": "code",
   "execution_count": 112,
   "id": "9897a7bf",
   "metadata": {
    "scrolled": true
   },
   "outputs": [],
   "source": [
    "notnullDevices = df['device_id'].notnull().sum()"
   ]
  },
  {
   "cell_type": "code",
   "execution_count": 113,
   "id": "85c5e548",
   "metadata": {},
   "outputs": [],
   "source": [
    "nullDevices = df['device_id'].isnull().sum()"
   ]
  },
  {
   "cell_type": "code",
   "execution_count": 114,
   "id": "d000b533",
   "metadata": {},
   "outputs": [
    {
     "data": {
      "image/png": "[encoded data removed]",
      "text/plain": [
       "<Figure size 640x480 with 1 Axes>"
      ]
     },
     "metadata": {},
     "output_type": "display_data"
    }
   ],
   "source": [
    "values = [notnullDevices, nullDevices]\n",
    "labels = ['device_id', 'device_id_null']\n",
    "\n",
    "plt.pie(values, labels=labels, autopct='%1.1f%%')\n",
    "plt.axis('equal')\n",
    "plt.title(\"Transaction without device_id registred\")\n",
    "plt.show()"
   ]
  },
  {
   "cell_type": "markdown",
   "id": "bad1704e",
   "metadata": {},
   "source": [
    "### Transaction with more than 10 purchases\n",
    "<br>"
   ]
  },
  {
   "cell_type": "code",
   "execution_count": 115,
   "id": "ccbc3996",
   "metadata": {},
   "outputs": [
    {
     "data": {
      "image/png": "[encoded data removed]",
      "text/plain": [
       "<Figure size 640x480 with 1 Axes>"
      ]
     },
     "metadata": {},
     "output_type": "display_data"
    },
    {
     "name": "stdout",
     "output_type": "stream",
     "text": [
      "      user_id  merchant_id  counts\n",
      "308     11750        17275      23\n",
      "2039    75710        77130      10\n",
      "2476    91637         4705      22\n",
      "2612    96025         1308      10\n"
     ]
    }
   ],
   "source": [
    "\n",
    "grouped = df.groupby(['user_id', 'merchant_id']).size().reset_index(name='counts')\n",
    "\n",
    "\n",
    "result = grouped[grouped['counts'] >= 10]\n",
    "\n",
    "\n",
    "result = grouped[grouped['counts'] >= 10]\n",
    "\n",
    "\n",
    "result.plot(kind='bar', x='user_id', y='counts')\n",
    "\n",
    "\n",
    "plt.show()\n",
    "\n",
    "print(result)"
   ]
  },
  {
   "cell_type": "markdown",
   "id": "d379edb4",
   "metadata": {},
   "source": [
    "### Analysing Transactions Distribution over time\n",
    "<br>"
   ]
  },
  {
   "cell_type": "code",
   "execution_count": 116,
   "id": "21b19c24",
   "metadata": {
    "scrolled": true
   },
   "outputs": [
    {
     "data": {
      "image/png": "[encoded data removed]",
      "text/plain": [
       "<Figure size 1000x500 with 1 Axes>"
      ]
     },
     "metadata": {},
     "output_type": "display_data"
    }
   ],
   "source": [
    "plt.figure(figsize=(10,5))\n",
    "sns.distplot(df.transaction_amount)\n",
    "plt.title(\"Transactions Distribution over time\", fontsize=14, fontweight='bold')\n",
    "plt.show()"
   ]
  },
  {
   "cell_type": "code",
   "execution_count": 117,
   "id": "d952de89",
   "metadata": {},
   "outputs": [
    {
     "data": {
      "image/png": "[encoded data removed]",
      "text/plain": [
       "<Figure size 1000x500 with 1 Axes>"
      ]
     },
     "metadata": {},
     "output_type": "display_data"
    }
   ],
   "source": [
    "# definindo a área de plotagem\n",
    "plt.figure(figsize=(10,5))\n",
    "\n",
    "# plotando o gráfico\n",
    "sns.distplot(np.log(df.transaction_amount + 0.1))\n",
    "\n",
    "# definindo título\n",
    "plt.title(\"Amount transaction distribuition\", fontsize=14, fontweight='bold')\n",
    "\n",
    "# exibindo o gráfico\n",
    "plt.show()"
   ]
  },
  {
   "cell_type": "markdown",
   "id": "88c1bb67",
   "metadata": {},
   "source": [
    "### What's the relation with transaction_amount and has_cbk?\n",
    "<br>"
   ]
  },
  {
   "cell_type": "code",
   "execution_count": 118,
   "id": "eaf4a598",
   "metadata": {},
   "outputs": [
    {
     "data": {
      "image/png": "[encoded data removed]",
      "text/plain": [
       "<Figure size 1000x500 with 2 Axes>"
      ]
     },
     "metadata": {},
     "output_type": "display_data"
    }
   ],
   "source": [
    "plt.figure(figsize=(10,5))\n",
    "plt.subplot(121)\n",
    "ax = sns.boxplot(x =\"has_cbk\",y=\"transaction_amount\", data=df)\n",
    "ax.set_title(\"has_cbk x transaction_amount || Real\", fontsize=14)\n",
    "ax.set_xlabel(\"has_cbk\", fontsize=12)\n",
    "ax.set_ylabel(\"\")\n",
    "\n",
    "plt.subplot(122)\n",
    "ax1 = sns.boxplot(x =\"has_cbk\",y=np.log(df.transaction_amount), data=df)\n",
    "ax1.set_title(\"has_cbk x transaction_amount || Normalized\", fontsize=14)\n",
    "ax1.set_xlabel(\"has_cbk\", fontsize=12)\n",
    "ax1.set_ylabel(\"\")\n",
    "\n",
    "plt.tight_layout()\n",
    "plt.show()"
   ]
  },
  {
   "cell_type": "markdown",
   "id": "185d26ab",
   "metadata": {},
   "source": [
    "### Converting full date format to specific date\n",
    "<br>"
   ]
  },
  {
   "cell_type": "code",
   "execution_count": 119,
   "id": "a670750e",
   "metadata": {},
   "outputs": [],
   "source": [
    "df['transaction_date'] = pd.to_datetime(df['transaction_date'])\n",
    "\n",
    "df['date_year'] = df['transaction_date'].dt.year\n",
    "df['date_month'] = df['transaction_date'].dt.month\n",
    "df['date_day'] = df['transaction_date'].dt.day\n",
    "df['date_dow'] = df['transaction_date'].dt.dayofweek\n",
    "df['hour'] = df['transaction_date'].dt.hour\n",
    "df['min'] = df['transaction_date'].dt.minute\n",
    "df['sec'] = df['transaction_date'].dt.second"
   ]
  },
  {
   "cell_type": "code",
   "execution_count": 120,
   "id": "bb2b9acd",
   "metadata": {
    "scrolled": true
   },
   "outputs": [
    {
     "name": "stdout",
     "output_type": "stream",
     "text": [
      "user_id               1.000000\n",
      "date_day              0.034923\n",
      "has_cbk               0.029590\n",
      "transaction_id        0.004263\n",
      "transaction_amount   -0.009175\n",
      "hour                 -0.016731\n",
      "merchant_id          -0.018794\n",
      "sec                  -0.021921\n",
      "date_dow             -0.023016\n",
      "min                  -0.031239\n",
      "date_month           -0.044818\n",
      "device_id            -0.049296\n",
      "Unnamed: 8                 NaN\n",
      "Unnamed: 9                 NaN\n",
      "date_year                  NaN\n",
      "Name: user_id, dtype: float64\n"
     ]
    }
   ],
   "source": [
    "correlation = df.corr()\n",
    "\n",
    "print(correlation[\"user_id\"].sort_values(ascending=False))"
   ]
  },
  {
   "cell_type": "code",
   "execution_count": 121,
   "id": "9260eb2d",
   "metadata": {},
   "outputs": [
    {
     "name": "stdout",
     "output_type": "stream",
     "text": [
      "   transaction_id  merchant_id  user_id       card_number  \\\n",
      "0        21320398        29744    97051  434505******9116   \n",
      "1        21320399        92895     2708  444456******4210   \n",
      "2        21320400        47759    14777  425850******7024   \n",
      "3        21320401        68657    69758  464296******3991   \n",
      "4        21320402        54075    64367  650487******6116   \n",
      "\n",
      "            transaction_date  transaction_amount  device_id has_cbk  \\\n",
      "0 2019-12-01 23:16:32.812632              374.56   285475.0     NaN   \n",
      "1 2019-12-01 22:45:37.873639              734.87   497105.0     NaN   \n",
      "2 2019-12-01 22:22:43.021495              760.36        NaN     NaN   \n",
      "3 2019-12-01 21:59:19.797129             2556.13        NaN     NaN   \n",
      "4 2019-12-01 21:30:53.347051               55.36   860232.0     NaN   \n",
      "\n",
      "   Unnamed: 8  Unnamed: 9  date_year  date_month  date_day  date_dow  hour  \\\n",
      "0         NaN         NaN       2019          12         1         6    23   \n",
      "1         NaN         NaN       2019          12         1         6    22   \n",
      "2         NaN         NaN       2019          12         1         6    22   \n",
      "3         NaN         NaN       2019          12         1         6    21   \n",
      "4         NaN         NaN       2019          12         1         6    21   \n",
      "\n",
      "   min  sec  \n",
      "0   16   32  \n",
      "1   45   37  \n",
      "2   22   43  \n",
      "3   59   19  \n",
      "4   30   53  \n"
     ]
    }
   ],
   "source": [
    "df[\"has_cbk\"] = df[\"has_cbk\"].map({\"FALSE\": 1, \"TRUE\": 2})\n",
    "df[\"has_cbk\"] = df[\"has_cbk\"].map({0: \"No Fraud\", 1: \"Fraud\"})\n",
    "\n",
    "print(df.head())"
   ]
  },
  {
   "cell_type": "markdown",
   "id": "b6544bd7",
   "metadata": {},
   "source": [
    "\n",
    "### Outliers over Transactions\n",
    "<br>"
   ]
  },
  {
   "cell_type": "code",
   "execution_count": 122,
   "id": "5ccb794a",
   "metadata": {},
   "outputs": [
    {
     "data": {
      "image/png": "[encoded data removed]",
      "text/plain": [
       "<Figure size 640x480 with 1 Axes>"
      ]
     },
     "metadata": {},
     "output_type": "display_data"
    }
   ],
   "source": [
    "sns.boxplot(df['transaction_amount'])\n",
    "\n",
    "df['transaction_amount'] = np.where(df.transaction_amount > 2200, 1, 0)"
   ]
  },
  {
   "cell_type": "code",
   "execution_count": 123,
   "id": "79e6368f",
   "metadata": {},
   "outputs": [],
   "source": [
    "device_id = df['device_id']"
   ]
  },
  {
   "cell_type": "code",
   "execution_count": 124,
   "id": "358a7c08",
   "metadata": {},
   "outputs": [
    {
     "data": {
      "text/plain": [
       "transaction_id           0\n",
       "merchant_id              0\n",
       "user_id                  0\n",
       "card_number              0\n",
       "transaction_date         0\n",
       "transaction_amount       0\n",
       "device_id              830\n",
       "has_cbk               3199\n",
       "Unnamed: 8            3199\n",
       "Unnamed: 9            3199\n",
       "date_year                0\n",
       "date_month               0\n",
       "date_day                 0\n",
       "date_dow                 0\n",
       "hour                     0\n",
       "min                      0\n",
       "sec                      0\n",
       "dtype: int64"
      ]
     },
     "execution_count": 124,
     "metadata": {},
     "output_type": "execute_result"
    }
   ],
   "source": [
    "df.isna().sum()"
   ]
  },
  {
   "cell_type": "code",
   "execution_count": 125,
   "id": "0e04d416",
   "metadata": {},
   "outputs": [
    {
     "data": {
      "text/plain": [
       "<AxesSubplot: ylabel='count'>"
      ]
     },
     "execution_count": 125,
     "metadata": {},
     "output_type": "execute_result"
    },
    {
     "data": {
      "image/png": "[encoded data removed]",
      "text/plain": [
       "<Figure size 640x480 with 1 Axes>"
      ]
     },
     "metadata": {},
     "output_type": "display_data"
    }
   ],
   "source": [
    "df['has_cbk'].value_counts()\n",
    "sns.countplot(df['has_cbk'])"
   ]
  },
  {
   "cell_type": "code",
   "execution_count": 126,
   "id": "12223fa2",
   "metadata": {},
   "outputs": [
    {
     "data": {
      "text/html": [
       "<div>\n",
       "<style scoped>\n",
       "    .dataframe tbody tr th:only-of-type {\n",
       "        vertical-align: middle;\n",
       "    }\n",
       "\n",
       "    .dataframe tbody tr th {\n",
       "        vertical-align: top;\n",
       "    }\n",
       "\n",
       "    .dataframe thead th {\n",
       "        text-align: right;\n",
       "    }\n",
       "</style>\n",
       "<table border=\"1\" class=\"dataframe\">\n",
       "  <thead>\n",
       "    <tr style=\"text-align: right;\">\n",
       "      <th></th>\n",
       "      <th>transaction_id</th>\n",
       "      <th>merchant_id</th>\n",
       "      <th>user_id</th>\n",
       "      <th>transaction_amount</th>\n",
       "      <th>device_id</th>\n",
       "      <th>Unnamed: 8</th>\n",
       "      <th>Unnamed: 9</th>\n",
       "      <th>date_year</th>\n",
       "      <th>date_month</th>\n",
       "      <th>date_day</th>\n",
       "      <th>date_dow</th>\n",
       "      <th>hour</th>\n",
       "      <th>min</th>\n",
       "      <th>sec</th>\n",
       "    </tr>\n",
       "  </thead>\n",
       "  <tbody>\n",
       "    <tr>\n",
       "      <th>transaction_id</th>\n",
       "      <td>1.000000</td>\n",
       "      <td>-0.007266</td>\n",
       "      <td>0.002776</td>\n",
       "      <td>0.046125</td>\n",
       "      <td>0.030457</td>\n",
       "      <td>NaN</td>\n",
       "      <td>NaN</td>\n",
       "      <td>NaN</td>\n",
       "      <td>-0.368472</td>\n",
       "      <td>-0.726974</td>\n",
       "      <td>-0.266920</td>\n",
       "      <td>-0.008689</td>\n",
       "      <td>-0.000276</td>\n",
       "      <td>0.019256</td>\n",
       "    </tr>\n",
       "    <tr>\n",
       "      <th>merchant_id</th>\n",
       "      <td>-0.007266</td>\n",
       "      <td>1.000000</td>\n",
       "      <td>-0.020702</td>\n",
       "      <td>-0.020729</td>\n",
       "      <td>0.021125</td>\n",
       "      <td>NaN</td>\n",
       "      <td>NaN</td>\n",
       "      <td>NaN</td>\n",
       "      <td>0.026868</td>\n",
       "      <td>-0.009879</td>\n",
       "      <td>0.031170</td>\n",
       "      <td>-0.018203</td>\n",
       "      <td>-0.015150</td>\n",
       "      <td>0.018263</td>\n",
       "    </tr>\n",
       "    <tr>\n",
       "      <th>user_id</th>\n",
       "      <td>0.002776</td>\n",
       "      <td>-0.020702</td>\n",
       "      <td>1.000000</td>\n",
       "      <td>-0.002901</td>\n",
       "      <td>-0.048572</td>\n",
       "      <td>NaN</td>\n",
       "      <td>NaN</td>\n",
       "      <td>NaN</td>\n",
       "      <td>-0.044702</td>\n",
       "      <td>0.030537</td>\n",
       "      <td>-0.027120</td>\n",
       "      <td>-0.007520</td>\n",
       "      <td>-0.031482</td>\n",
       "      <td>-0.021805</td>\n",
       "    </tr>\n",
       "    <tr>\n",
       "      <th>transaction_amount</th>\n",
       "      <td>0.046125</td>\n",
       "      <td>-0.020729</td>\n",
       "      <td>-0.002901</td>\n",
       "      <td>1.000000</td>\n",
       "      <td>0.010842</td>\n",
       "      <td>NaN</td>\n",
       "      <td>NaN</td>\n",
       "      <td>NaN</td>\n",
       "      <td>-0.014003</td>\n",
       "      <td>-0.037636</td>\n",
       "      <td>-0.010209</td>\n",
       "      <td>0.029930</td>\n",
       "      <td>-0.022870</td>\n",
       "      <td>0.007229</td>\n",
       "    </tr>\n",
       "    <tr>\n",
       "      <th>device_id</th>\n",
       "      <td>0.030457</td>\n",
       "      <td>0.021125</td>\n",
       "      <td>-0.048572</td>\n",
       "      <td>0.010842</td>\n",
       "      <td>1.000000</td>\n",
       "      <td>NaN</td>\n",
       "      <td>NaN</td>\n",
       "      <td>NaN</td>\n",
       "      <td>-0.019697</td>\n",
       "      <td>-0.018818</td>\n",
       "      <td>-0.028103</td>\n",
       "      <td>0.030387</td>\n",
       "      <td>0.010702</td>\n",
       "      <td>-0.002902</td>\n",
       "    </tr>\n",
       "    <tr>\n",
       "      <th>Unnamed: 8</th>\n",
       "      <td>NaN</td>\n",
       "      <td>NaN</td>\n",
       "      <td>NaN</td>\n",
       "      <td>NaN</td>\n",
       "      <td>NaN</td>\n",
       "      <td>NaN</td>\n",
       "      <td>NaN</td>\n",
       "      <td>NaN</td>\n",
       "      <td>NaN</td>\n",
       "      <td>NaN</td>\n",
       "      <td>NaN</td>\n",
       "      <td>NaN</td>\n",
       "      <td>NaN</td>\n",
       "      <td>NaN</td>\n",
       "    </tr>\n",
       "    <tr>\n",
       "      <th>Unnamed: 9</th>\n",
       "      <td>NaN</td>\n",
       "      <td>NaN</td>\n",
       "      <td>NaN</td>\n",
       "      <td>NaN</td>\n",
       "      <td>NaN</td>\n",
       "      <td>NaN</td>\n",
       "      <td>NaN</td>\n",
       "      <td>NaN</td>\n",
       "      <td>NaN</td>\n",
       "      <td>NaN</td>\n",
       "      <td>NaN</td>\n",
       "      <td>NaN</td>\n",
       "      <td>NaN</td>\n",
       "      <td>NaN</td>\n",
       "    </tr>\n",
       "    <tr>\n",
       "      <th>date_year</th>\n",
       "      <td>NaN</td>\n",
       "      <td>NaN</td>\n",
       "      <td>NaN</td>\n",
       "      <td>NaN</td>\n",
       "      <td>NaN</td>\n",
       "      <td>NaN</td>\n",
       "      <td>NaN</td>\n",
       "      <td>NaN</td>\n",
       "      <td>NaN</td>\n",
       "      <td>NaN</td>\n",
       "      <td>NaN</td>\n",
       "      <td>NaN</td>\n",
       "      <td>NaN</td>\n",
       "      <td>NaN</td>\n",
       "    </tr>\n",
       "    <tr>\n",
       "      <th>date_month</th>\n",
       "      <td>-0.368472</td>\n",
       "      <td>0.026868</td>\n",
       "      <td>-0.044702</td>\n",
       "      <td>-0.014003</td>\n",
       "      <td>-0.019697</td>\n",
       "      <td>NaN</td>\n",
       "      <td>NaN</td>\n",
       "      <td>NaN</td>\n",
       "      <td>1.000000</td>\n",
       "      <td>-0.366710</td>\n",
       "      <td>0.345973</td>\n",
       "      <td>-0.072468</td>\n",
       "      <td>0.028170</td>\n",
       "      <td>0.001153</td>\n",
       "    </tr>\n",
       "    <tr>\n",
       "      <th>date_day</th>\n",
       "      <td>-0.726974</td>\n",
       "      <td>-0.009879</td>\n",
       "      <td>0.030537</td>\n",
       "      <td>-0.037636</td>\n",
       "      <td>-0.018818</td>\n",
       "      <td>NaN</td>\n",
       "      <td>NaN</td>\n",
       "      <td>NaN</td>\n",
       "      <td>-0.366710</td>\n",
       "      <td>1.000000</td>\n",
       "      <td>0.012878</td>\n",
       "      <td>0.000055</td>\n",
       "      <td>-0.023539</td>\n",
       "      <td>-0.021357</td>\n",
       "    </tr>\n",
       "    <tr>\n",
       "      <th>date_dow</th>\n",
       "      <td>-0.266920</td>\n",
       "      <td>0.031170</td>\n",
       "      <td>-0.027120</td>\n",
       "      <td>-0.010209</td>\n",
       "      <td>-0.028103</td>\n",
       "      <td>NaN</td>\n",
       "      <td>NaN</td>\n",
       "      <td>NaN</td>\n",
       "      <td>0.345973</td>\n",
       "      <td>0.012878</td>\n",
       "      <td>1.000000</td>\n",
       "      <td>-0.051529</td>\n",
       "      <td>-0.028195</td>\n",
       "      <td>-0.016181</td>\n",
       "    </tr>\n",
       "    <tr>\n",
       "      <th>hour</th>\n",
       "      <td>-0.008689</td>\n",
       "      <td>-0.018203</td>\n",
       "      <td>-0.007520</td>\n",
       "      <td>0.029930</td>\n",
       "      <td>0.030387</td>\n",
       "      <td>NaN</td>\n",
       "      <td>NaN</td>\n",
       "      <td>NaN</td>\n",
       "      <td>-0.072468</td>\n",
       "      <td>0.000055</td>\n",
       "      <td>-0.051529</td>\n",
       "      <td>1.000000</td>\n",
       "      <td>-0.012179</td>\n",
       "      <td>0.015129</td>\n",
       "    </tr>\n",
       "    <tr>\n",
       "      <th>min</th>\n",
       "      <td>-0.000276</td>\n",
       "      <td>-0.015150</td>\n",
       "      <td>-0.031482</td>\n",
       "      <td>-0.022870</td>\n",
       "      <td>0.010702</td>\n",
       "      <td>NaN</td>\n",
       "      <td>NaN</td>\n",
       "      <td>NaN</td>\n",
       "      <td>0.028170</td>\n",
       "      <td>-0.023539</td>\n",
       "      <td>-0.028195</td>\n",
       "      <td>-0.012179</td>\n",
       "      <td>1.000000</td>\n",
       "      <td>0.023488</td>\n",
       "    </tr>\n",
       "    <tr>\n",
       "      <th>sec</th>\n",
       "      <td>0.019256</td>\n",
       "      <td>0.018263</td>\n",
       "      <td>-0.021805</td>\n",
       "      <td>0.007229</td>\n",
       "      <td>-0.002902</td>\n",
       "      <td>NaN</td>\n",
       "      <td>NaN</td>\n",
       "      <td>NaN</td>\n",
       "      <td>0.001153</td>\n",
       "      <td>-0.021357</td>\n",
       "      <td>-0.016181</td>\n",
       "      <td>0.015129</td>\n",
       "      <td>0.023488</td>\n",
       "      <td>1.000000</td>\n",
       "    </tr>\n",
       "  </tbody>\n",
       "</table>\n",
       "</div>"
      ],
      "text/plain": [
       "                    transaction_id  merchant_id   user_id  transaction_amount  \\\n",
       "transaction_id            1.000000    -0.007266  0.002776            0.046125   \n",
       "merchant_id              -0.007266     1.000000 -0.020702           -0.020729   \n",
       "user_id                   0.002776    -0.020702  1.000000           -0.002901   \n",
       "transaction_amount        0.046125    -0.020729 -0.002901            1.000000   \n",
       "device_id                 0.030457     0.021125 -0.048572            0.010842   \n",
       "Unnamed: 8                     NaN          NaN       NaN                 NaN   \n",
       "Unnamed: 9                     NaN          NaN       NaN                 NaN   \n",
       "date_year                      NaN          NaN       NaN                 NaN   \n",
       "date_month               -0.368472     0.026868 -0.044702           -0.014003   \n",
       "date_day                 -0.726974    -0.009879  0.030537           -0.037636   \n",
       "date_dow                 -0.266920     0.031170 -0.027120           -0.010209   \n",
       "hour                     -0.008689    -0.018203 -0.007520            0.029930   \n",
       "min                      -0.000276    -0.015150 -0.031482           -0.022870   \n",
       "sec                       0.019256     0.018263 -0.021805            0.007229   \n",
       "\n",
       "                    device_id  Unnamed: 8  Unnamed: 9  date_year  date_month  \\\n",
       "transaction_id       0.030457         NaN         NaN        NaN   -0.368472   \n",
       "merchant_id          0.021125         NaN         NaN        NaN    0.026868   \n",
       "user_id             -0.048572         NaN         NaN        NaN   -0.044702   \n",
       "transaction_amount   0.010842         NaN         NaN        NaN   -0.014003   \n",
       "device_id            1.000000         NaN         NaN        NaN   -0.019697   \n",
       "Unnamed: 8                NaN         NaN         NaN        NaN         NaN   \n",
       "Unnamed: 9                NaN         NaN         NaN        NaN         NaN   \n",
       "date_year                 NaN         NaN         NaN        NaN         NaN   \n",
       "date_month          -0.019697         NaN         NaN        NaN    1.000000   \n",
       "date_day            -0.018818         NaN         NaN        NaN   -0.366710   \n",
       "date_dow            -0.028103         NaN         NaN        NaN    0.345973   \n",
       "hour                 0.030387         NaN         NaN        NaN   -0.072468   \n",
       "min                  0.010702         NaN         NaN        NaN    0.028170   \n",
       "sec                 -0.002902         NaN         NaN        NaN    0.001153   \n",
       "\n",
       "                    date_day  date_dow      hour       min       sec  \n",
       "transaction_id     -0.726974 -0.266920 -0.008689 -0.000276  0.019256  \n",
       "merchant_id        -0.009879  0.031170 -0.018203 -0.015150  0.018263  \n",
       "user_id             0.030537 -0.027120 -0.007520 -0.031482 -0.021805  \n",
       "transaction_amount -0.037636 -0.010209  0.029930 -0.022870  0.007229  \n",
       "device_id          -0.018818 -0.028103  0.030387  0.010702 -0.002902  \n",
       "Unnamed: 8               NaN       NaN       NaN       NaN       NaN  \n",
       "Unnamed: 9               NaN       NaN       NaN       NaN       NaN  \n",
       "date_year                NaN       NaN       NaN       NaN       NaN  \n",
       "date_month         -0.366710  0.345973 -0.072468  0.028170  0.001153  \n",
       "date_day            1.000000  0.012878  0.000055 -0.023539 -0.021357  \n",
       "date_dow            0.012878  1.000000 -0.051529 -0.028195 -0.016181  \n",
       "hour                0.000055 -0.051529  1.000000 -0.012179  0.015129  \n",
       "min                -0.023539 -0.028195 -0.012179  1.000000  0.023488  \n",
       "sec                -0.021357 -0.016181  0.015129  0.023488  1.000000  "
      ]
     },
     "execution_count": 126,
     "metadata": {},
     "output_type": "execute_result"
    }
   ],
   "source": [
    "df.corr(method='spearman')"
   ]
  },
  {
   "cell_type": "code",
   "execution_count": 127,
   "id": "e7287599",
   "metadata": {},
   "outputs": [
    {
     "name": "stdout",
     "output_type": "stream",
     "text": [
      "   transaction_id  merchant_id  user_id       card_number  \\\n",
      "0        21320398        29744    97051  434505******9116   \n",
      "1        21320399        92895     2708  444456******4210   \n",
      "2        21320400        47759    14777  425850******7024   \n",
      "3        21320401        68657    69758  464296******3991   \n",
      "4        21320402        54075    64367  650487******6116   \n",
      "5        21320403        59566    40759  516292******8220   \n",
      "6        21320404        20917    25661  650485******9310   \n",
      "7        21320405        56107    81152  650516******9201   \n",
      "8        21320406        56107    81152  650516******9201   \n",
      "9        21320407        56107    81152  650516******9201   \n",
      "\n",
      "            transaction_date  transaction_amount  device_id has_cbk  \\\n",
      "0 2019-12-01 23:16:32.812632                   0   285475.0     NaN   \n",
      "1 2019-12-01 22:45:37.873639                   0   497105.0     NaN   \n",
      "2 2019-12-01 22:22:43.021495                   0        NaN     NaN   \n",
      "3 2019-12-01 21:59:19.797129                   1        NaN     NaN   \n",
      "4 2019-12-01 21:30:53.347051                   0   860232.0     NaN   \n",
      "5 2019-12-01 21:25:53.374213                   0   192705.0     NaN   \n",
      "6 2019-12-01 21:25:19.532243                   0   760932.0     NaN   \n",
      "7 2019-12-01 21:24:05.608374                   0      486.0     NaN   \n",
      "8 2019-12-01 21:13:21.529999                   0      486.0     NaN   \n",
      "9 2019-12-01 21:04:55.066909                   0      486.0     NaN   \n",
      "\n",
      "   Unnamed: 8  Unnamed: 9  date_year  date_month  date_day  date_dow  hour  \\\n",
      "0         NaN         NaN       2019          12         1         6    23   \n",
      "1         NaN         NaN       2019          12         1         6    22   \n",
      "2         NaN         NaN       2019          12         1         6    22   \n",
      "3         NaN         NaN       2019          12         1         6    21   \n",
      "4         NaN         NaN       2019          12         1         6    21   \n",
      "5         NaN         NaN       2019          12         1         6    21   \n",
      "6         NaN         NaN       2019          12         1         6    21   \n",
      "7         NaN         NaN       2019          12         1         6    21   \n",
      "8         NaN         NaN       2019          12         1         6    21   \n",
      "9         NaN         NaN       2019          12         1         6    21   \n",
      "\n",
      "   min  sec  \n",
      "0   16   32  \n",
      "1   45   37  \n",
      "2   22   43  \n",
      "3   59   19  \n",
      "4   30   53  \n",
      "5   25   53  \n",
      "6   25   19  \n",
      "7   24    5  \n",
      "8   13   21  \n",
      "9    4   55  \n"
     ]
    }
   ],
   "source": [
    "\n",
    "fraudalentUsers = df['user_id'].tolist()\n",
    "\n",
    "\n",
    "dfFraudelentUsers = df[df['user_id'].isin(fraudalentUsers)]\n",
    "print(dfFraudelentUsers.head(10))\n",
    "\n",
    "\n",
    "transaction_id = df['transaction_id'].tolist()\n",
    "crit_credit_card = df['card_number'].tolist()\n",
    "\n",
    "\n",
    "merchant_id = df['merchant_id'].tolist()\n",
    "device_id = df['device_id'].tolist()\n",
    "\n",
    "\n",
    "df_data = pd.DataFrame(\n",
    "    {'crit_transaction_id':transaction_id,\n",
    "     'crit_credit_card':crit_credit_card,\n",
    "     'crit_merchant_id':merchant_id,\n",
    "     'crit_device_id':device_id }\n",
    ")\n"
   ]
  },
  {
   "cell_type": "markdown",
   "id": "0866ee0d",
   "metadata": {},
   "source": [
    "## Checking transaction_amount correlations\n"
   ]
  },
  {
   "cell_type": "code",
   "execution_count": 128,
   "id": "d1b0ab91",
   "metadata": {
    "scrolled": true
   },
   "outputs": [
    {
     "data": {
      "text/plain": [
       "transaction_amount    1.000000\n",
       "transaction_id        0.046125\n",
       "hour                  0.031023\n",
       "device_id             0.011899\n",
       "sec                   0.007283\n",
       "user_id              -0.003663\n",
       "date_month           -0.014003\n",
       "date_dow             -0.015608\n",
       "merchant_id          -0.021976\n",
       "min                  -0.022910\n",
       "date_day             -0.047048\n",
       "Unnamed: 8                 NaN\n",
       "Unnamed: 9                 NaN\n",
       "date_year                  NaN\n",
       "Name: transaction_amount, dtype: float64"
      ]
     },
     "execution_count": 128,
     "metadata": {},
     "output_type": "execute_result"
    }
   ],
   "source": [
    "df.corr()[\"transaction_amount\"].sort_values(ascending=False)"
   ]
  }
 ],
 "metadata": {
  "kernelspec": {
   "display_name": "Python 3 (ipykernel)",
   "language": "python",
   "name": "python3"
  },
  "language_info": {
   "codemirror_mode": {
    "name": "ipython",
    "version": 3
   },
   "file_extension": ".py",
   "mimetype": "text/x-python",
   "name": "python",
   "nbconvert_exporter": "python",
   "pygments_lexer": "ipython3",
   "version": "3.11.1"
  }
 },
 "nbformat": 4,
 "nbformat_minor": 5
}
